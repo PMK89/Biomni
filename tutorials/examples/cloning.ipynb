{
 "cells": [
  {
   "cell_type": "code",
   "execution_count": 3,
   "metadata": {},
   "outputs": [
    {
     "ename": "PermissionError",
     "evalue": "[Errno 13] Permission denied: '/dfs'",
     "output_type": "error",
     "traceback": [
      "\u001b[31m---------------------------------------------------------------------------\u001b[39m",
      "\u001b[31mPermissionError\u001b[39m                           Traceback (most recent call last)",
      "\u001b[36mCell\u001b[39m\u001b[36m \u001b[39m\u001b[32mIn[3]\u001b[39m\u001b[32m, line 11\u001b[39m\n\u001b[32m      8\u001b[39m openai_api_key=os.getenv(\u001b[33m\"\u001b[39m\u001b[33mOPENAI_API_KEY\u001b[39m\u001b[33m\"\u001b[39m)\n\u001b[32m      9\u001b[39m azure_endpoint=os.getenv(\u001b[33m\"\u001b[39m\u001b[33mOPENAI_ENDPOINT\u001b[39m\u001b[33m\"\u001b[39m)\n\u001b[32m---> \u001b[39m\u001b[32m11\u001b[39m agent = \u001b[43mA1\u001b[49m\u001b[43m(\u001b[49m\u001b[43mpath\u001b[49m\u001b[43m=\u001b[49m\u001b[33;43m\"\u001b[39;49m\u001b[33;43m/dfs/project/bioagentos/biomni_data_test\u001b[39;49m\u001b[33;43m\"\u001b[39;49m\u001b[43m,\u001b[49m\u001b[43m \u001b[49m\u001b[43mllm\u001b[49m\u001b[43m=\u001b[49m\u001b[33;43m\"\u001b[39;49m\u001b[33;43mo3\u001b[39;49m\u001b[33;43m\"\u001b[39;49m\u001b[43m,\u001b[49m\u001b[43m \u001b[49m\u001b[43mbase_url\u001b[49m\u001b[43m=\u001b[49m\u001b[43mazure_endpoint\u001b[49m\u001b[43m,\u001b[49m\u001b[43m \u001b[49m\u001b[43mapi_key\u001b[49m\u001b[43m=\u001b[49m\u001b[43mopenai_api_key\u001b[49m\u001b[43m)\u001b[49m\n\u001b[32m     13\u001b[39m agent.go(\n\u001b[32m     14\u001b[39m     \u001b[33m\"\u001b[39m\u001b[33mI have a plasmid plentiCRISPR v2 (sequence is at ./data/plentiCRISPR.txt). \u001b[39m\u001b[33m\"\u001b[39m\n\u001b[32m     15\u001b[39m     \u001b[33m\"\u001b[39m\u001b[33mI hope to clone a CRISPR sgRNA targeting human B2M into this plasmid. \u001b[39m\u001b[33m\"\u001b[39m\n\u001b[32m     16\u001b[39m     \u001b[33m\"\u001b[39m\u001b[33mCould you save the final assembied plasmid map into *.fasta and show step-by-step guidance\u001b[39m\u001b[33m\"\u001b[39m\n\u001b[32m     17\u001b[39m     \u001b[33m\"\u001b[39m\u001b[33m on how should I perform the cloning?\u001b[39m\u001b[33m\"\u001b[39m\n\u001b[32m     18\u001b[39m )\n",
      "\u001b[36mFile \u001b[39m\u001b[32m~/Biomni/biomni/agent/a1.py:68\u001b[39m, in \u001b[36mA1.__init__\u001b[39m\u001b[34m(self, path, llm, source, use_tool_retriever, timeout_seconds, base_url, api_key)\u001b[39m\n\u001b[32m     65\u001b[39m \u001b[38;5;28mself\u001b[39m.path = path\n\u001b[32m     67\u001b[39m \u001b[38;5;28;01mif\u001b[39;00m \u001b[38;5;129;01mnot\u001b[39;00m os.path.exists(path):\n\u001b[32m---> \u001b[39m\u001b[32m68\u001b[39m     \u001b[43mos\u001b[49m\u001b[43m.\u001b[49m\u001b[43mmakedirs\u001b[49m\u001b[43m(\u001b[49m\u001b[43mpath\u001b[49m\u001b[43m)\u001b[49m\n\u001b[32m     69\u001b[39m     \u001b[38;5;28mprint\u001b[39m(\u001b[33mf\u001b[39m\u001b[33m\"\u001b[39m\u001b[33mCreated directory: \u001b[39m\u001b[38;5;132;01m{\u001b[39;00mpath\u001b[38;5;132;01m}\u001b[39;00m\u001b[33m\"\u001b[39m)\n\u001b[32m     71\u001b[39m \u001b[38;5;66;03m# --- Begin custom folder/file checks ---\u001b[39;00m\n",
      "\u001b[36mFile \u001b[39m\u001b[32m<frozen os>:215\u001b[39m, in \u001b[36mmakedirs\u001b[39m\u001b[34m(name, mode, exist_ok)\u001b[39m\n",
      "\u001b[36mFile \u001b[39m\u001b[32m<frozen os>:215\u001b[39m, in \u001b[36mmakedirs\u001b[39m\u001b[34m(name, mode, exist_ok)\u001b[39m\n",
      "\u001b[36mFile \u001b[39m\u001b[32m<frozen os>:215\u001b[39m, in \u001b[36mmakedirs\u001b[39m\u001b[34m(name, mode, exist_ok)\u001b[39m\n",
      "\u001b[36mFile \u001b[39m\u001b[32m<frozen os>:225\u001b[39m, in \u001b[36mmakedirs\u001b[39m\u001b[34m(name, mode, exist_ok)\u001b[39m\n",
      "\u001b[31mPermissionError\u001b[39m: [Errno 13] Permission denied: '/dfs'"
     ]
    }
   ],
   "source": [
    "import sys\n",
    "import os\n",
    "\n",
    "sys.path.append(\"/dfs/user/kexinh/BioAgentOS/biomni_release\")\n",
    "sys.path.insert(0, \"../\")  # This puts the local directory at the start of the path\n",
    "from biomni.agent import A1\n",
    "\n",
    "openai_api_key=os.getenv(\"OPENAI_API_KEY\")\n",
    "azure_endpoint=os.getenv(\"OPENAI_ENDPOINT\")\n",
    "\n",
    "agent = A1(path=\"/dfs/project/bioagentos/biomni_data_test\", llm=\"o3\", base_url=azure_endpoint, api_key=openai_api_key)\n",
    "\n",
    "agent.go(\n",
    "    \"I have a plasmid plentiCRISPR v2 (sequence is at ./data/plentiCRISPR.txt). \"\n",
    "    \"I hope to clone a CRISPR sgRNA targeting human B2M into this plasmid. \"\n",
    "    \"Could you save the final assembied plasmid map into *.fasta and show step-by-step guidance\"\n",
    "    \" on how should I perform the cloning?\"\n",
    ")"
   ]
  }
 ],
 "metadata": {
  "kernelspec": {
   "display_name": "biomni_e1",
   "language": "python",
   "name": "python3"
  },
  "language_info": {
   "codemirror_mode": {
    "name": "ipython",
    "version": 3
   },
   "file_extension": ".py",
   "mimetype": "text/x-python",
   "name": "python",
   "nbconvert_exporter": "python",
   "pygments_lexer": "ipython3",
   "version": "3.11.13"
  }
 },
 "nbformat": 4,
 "nbformat_minor": 2
}
